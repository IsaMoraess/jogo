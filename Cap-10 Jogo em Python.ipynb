{
 "cells": [
  {
   "cell_type": "code",
   "execution_count": 1,
   "id": "2456747e",
   "metadata": {},
   "outputs": [
    {
     "name": "stdout",
     "output_type": "stream",
     "text": [
      "Bem-vindo ao Jogo de Adivinhação!\n",
      "Tente adivinhar o número secreto entre 1 e 100.\n",
      "Digite um número: 76\n",
      "Tente um número menor.\n",
      "Digite um número: 12\n",
      "Tente um número maior.\n",
      "Digite um número: 45\n",
      "Tente um número maior.\n",
      "Digite um número: 50\n",
      "Tente um número maior.\n",
      "Digite um número: 55\n",
      "Tente um número maior.\n",
      "Digite um número: 60\n",
      "Tente um número maior.\n",
      "Digite um número: 65\n",
      "Tente um número maior.\n",
      "Digite um número: 70\n",
      "Tente um número menor.\n",
      "Digite um número: 64\n",
      "Tente um número maior.\n",
      "Digite um número: 65\n",
      "Tente um número maior.\n",
      "Digite um número: 66\n",
      "Tente um número maior.\n",
      "Digite um número: 67\n",
      "Tente um número maior.\n",
      "Digite um número: 68\n",
      "Tente um número maior.\n",
      "Digite um número: 69\n",
      "Parabéns! Você acertou o número secreto 69 em 14 tentativas.\n"
     ]
    }
   ],
   "source": [
    "import random\n",
    "\n",
    "def jogo_de_adivinhacao():\n",
    "    numero_secreto = random.randint(1, 100)  # Gera um número aleatório entre 1 e 100\n",
    "    tentativas = 0\n",
    "\n",
    "    print(\"Bem-vindo ao Jogo de Adivinhação!\")\n",
    "    print(\"Tente adivinhar o número secreto entre 1 e 100.\")\n",
    "\n",
    "    while True:\n",
    "        try:\n",
    "            palpite = int(input(\"Digite um número: \"))\n",
    "        except ValueError:\n",
    "            print(\"Isso não parece ser um número válido. Tente novamente.\")\n",
    "            continue\n",
    "\n",
    "        tentativas += 1\n",
    "\n",
    "        if palpite < numero_secreto:\n",
    "            print(\"Tente um número maior.\")\n",
    "        elif palpite > numero_secreto:\n",
    "            print(\"Tente um número menor.\")\n",
    "        else:\n",
    "            print(f\"Parabéns! Você acertou o número secreto {numero_secreto} em {tentativas} tentativas.\")\n",
    "            break\n",
    "\n",
    "if __name__ == \"__main__\":\n",
    "    jogo_de_adivinhacao()"
   ]
  },
  {
   "cell_type": "code",
   "execution_count": null,
   "id": "2fe2b643",
   "metadata": {},
   "outputs": [],
   "source": []
  }
 ],
 "metadata": {
  "kernelspec": {
   "display_name": "Python 3 (ipykernel)",
   "language": "python",
   "name": "python3"
  },
  "language_info": {
   "codemirror_mode": {
    "name": "ipython",
    "version": 3
   },
   "file_extension": ".py",
   "mimetype": "text/x-python",
   "name": "python",
   "nbconvert_exporter": "python",
   "pygments_lexer": "ipython3",
   "version": "3.9.13"
  }
 },
 "nbformat": 4,
 "nbformat_minor": 5
}
